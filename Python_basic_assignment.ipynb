{
  "nbformat": 4,
  "nbformat_minor": 0,
  "metadata": {
    "colab": {
      "provenance": []
    },
    "kernelspec": {
      "name": "python3",
      "display_name": "Python 3"
    },
    "language_info": {
      "name": "python"
    }
  },
  "cells": [
    {
      "cell_type": "code",
      "execution_count": 24,
      "metadata": {
        "id": "3yjoVkcXuZJq"
      },
      "outputs": [],
      "source": []
    },
    {
      "cell_type": "markdown",
      "source": [
        "1. what is python, and why is it popular?\n",
        "\n",
        " Answer>> Python is a high-level, interpreted, general-purpose programming language known for its simplicity and readability.Python emphasizes code readability with its clean and straightforward syntax, which allows developers to write clear and concise code.\n",
        "\n",
        " Python's popularity stems from several key factors:\n",
        "\n",
        " 1. Ease of Use and Readability\n",
        " 2.Versatility\n",
        " 3.Extensive Libraries and Frameworks\n",
        " 4.Large Community Support\n",
        " 5.Integration Capabilities\n",
        "\n",
        "2. what is an interpreter in python?\n",
        "\n",
        "Answer>> An interpreter in Python is a program that reads and executes Python code line by line, rather than compiling the entire program into machine code beforehand. It translates Python source code into an intermediate form and then executes it directly.\n",
        "\n",
        "3. what are pre defined keywords in python?\n",
        "\n",
        "Answer>> Predefined keywords in Python are reserved words that have special meanings and purposes in the language. These keywords cannot be used as identifiers (names for variables, functions, classes, etc.) because they are part of Python's syntax and grammar.\n",
        "\n",
        "4. Can keywords be used as variable names?\n",
        "\n",
        "Answer>> Keywords cannot be used as variable names in Python. Keywords are reserved words that have special meanings in the language, and using them as variable names would cause a syntax error because Python would not be able to differentiate between the intended use as a variable and their predefined functionality.\n",
        "\n",
        "\n",
        "5. What is mutability in python?\n",
        "\n",
        "Answer>>  Mutability in Python refers to the ability of an object to be changed after it is created. Depending on whether the content of an object can be modified or not, Python objects are categorized as:\n",
        "\n",
        "Mutable Objects: Objects whose content or state can be changed after creation.\n",
        "Immutable Objects: Objects whose content or state cannot be changed after creation.\n",
        "\n",
        "6. Why are lists mutable, but tuples are immutable?\n",
        "\n",
        "Answer>> The distinction between lists being mutable and tuples being immutable in Python is by design and serves specific purposes related to performance, use cases, and consistency. Here’s an explanation of why this distinction exists:\n",
        "\n",
        ".Lists are designed to be versatile and flexible, allowing frequent and dynamic modifications such as adding, removing, or updating element\n",
        "\n",
        ".Tuples are designed to represent fixed, unchanging collections of items. Their immutability ensures data integrity and allows them to be used as keys in dictionaries or elements in sets.\n",
        "\n",
        ". lists are mutable, they require additional memory overhead to manage changes dynamically.\n",
        "\n",
        ".Tuples are immutable, meaning they are simpler and faster to process. Their fixed size allows Python to optimize memory allocation and performance\n",
        "\n",
        "7. What is the difference between \" ==\" and \" is\" operators in python?\n",
        "\n",
        "Answer>> The \"==\" and is operators in Python are both used for comparisons but serve distinct purposes:\n",
        "\"==\" is a Equality Operator whereas \"is\" an Identity Operator.\n",
        "\"==\" Compares values whereas \"is\"Compares object identity.\n",
        "\"==\" is Used to check logical equality,whereas \"is\" Used to check object identity.\n",
        "\n",
        "8. What are logical operators in python?\n",
        "\n",
        "Answer>> Logical operators in Python are used to combine conditional statements or expressions. They evaluate multiple conditions and return a Boolean value (True or False) based on the logic applied. Python provides three logical operators: and, or, and not.\n",
        "\n",
        "9. What is type casting in python?\n",
        "\n",
        "Answer>> Type casting in Python refers to the process of converting a value from one data type to another. Python provides built-in functions to perform explicit type casting, which is also known as type conversion.\n",
        "\n",
        "10. What is the difference between implicit and explicit type casting?\n",
        "\n",
        " Answer>> In Implicit Type Casting Conversion between data types is performed automatically by Python without requiring any explicit instruction from the programmer. whereas in Explicit Type Casting Conversion between data types is performed manually by the programmer using Python's built-in functions like int(), float(), str(), etc.\n",
        "\n",
        "11. what is the purpose of conditional statements in python?\n",
        "\n",
        "Answer>> Conditional statements in Python are used to control the flow of execution based on certain conditions. These statements allow the program to make decisions and execute different blocks of code depending on whether a condition is True or False.\n",
        "\n",
        "12. How does the elif statement work?\n",
        "\n",
        "Answer>>  The elif (short for \"else if\") statement in Python is used to check multiple conditions sequentially,after an initial if statement. It provides an alternative way to handle conditions when the first condition in an if statement is False. If the if condition fails, Python checks the conditions in the elif blocks (if any) one by one, and the first one that evaluates to True gets executed. If none of the elif conditions are True, the else block (if present) is executed.\n",
        "\n",
        "13. What is the difference between for and while loops?\n",
        "\n",
        "Answer>> The for loop is used to iterate over a sequence (such as a list, tuple, string, or range) or any iterable object. It executes a block of code once for each item in the sequence.\n",
        "\n",
        ".The while loop repeatedly executes a block of code as long as a specified condition remains True. It continues to run until the condition becomes False.\n",
        "\n",
        "14. Describe a scenario where a while loop is more suitable than a for loop?\n",
        "\n",
        "Answer>>  while loop is more suitable than a for loop is when you don't know in advance how many times the loop should run, but you want the loop to continue until a specific condition is met.\n",
        "\n",
        "Scenario: User Input Validation\n",
        "\n",
        "Suppose you're developing a program that asks the user to input a password. The program needs to ensure that the user enters a valid password that meets certain criteria (e.g., length, contains numbers and special characters). You don’t know how many attempts the user will need, but you want to keep prompting them until they provide a valid password.\n",
        "\n",
        "In this case, a while loop is perfect because it allows you to keep asking the user for input as long as the password does not meet the required criteria.\n",
        "\n",
        "\n"
      ],
      "metadata": {
        "id": "_W9yfYPKwHuE"
      }
    },
    {
      "cell_type": "markdown",
      "source": [
        " PRACTICAL QUESTIONS"
      ],
      "metadata": {
        "id": "O3kyKyu3RNk-"
      }
    },
    {
      "cell_type": "markdown",
      "source": [
        "1. Write a python program to print \"Hello, World!\"\n"
      ],
      "metadata": {
        "id": "GrnkTsNoRdhN"
      }
    },
    {
      "cell_type": "code",
      "source": [
        "print(\"Hello,World!\")"
      ],
      "metadata": {
        "colab": {
          "base_uri": "https://localhost:8080/"
        },
        "id": "tZzLfWuLRuqM",
        "outputId": "98a70ec4-7a53-480e-923a-5e4925256174"
      },
      "execution_count": 25,
      "outputs": [
        {
          "output_type": "stream",
          "name": "stdout",
          "text": [
            "Hello,World!\n"
          ]
        }
      ]
    },
    {
      "cell_type": "markdown",
      "source": [
        "2 . Write a python program that displays your name and age."
      ],
      "metadata": {
        "id": "FrlzgAy4SVpM"
      }
    },
    {
      "cell_type": "code",
      "source": [
        "name = \"jatinder kumar\"\n",
        "age = 28\n",
        "print(\"Name:\",name)\n",
        "print(\"Age:\",age)"
      ],
      "metadata": {
        "colab": {
          "base_uri": "https://localhost:8080/"
        },
        "id": "ds3YuLMQS7Ns",
        "outputId": "aa6ca230-7e47-4956-8af0-4989bc33c633"
      },
      "execution_count": 26,
      "outputs": [
        {
          "output_type": "stream",
          "name": "stdout",
          "text": [
            "Name: jatinder kumar\n",
            "Age: 28\n"
          ]
        }
      ]
    },
    {
      "cell_type": "markdown",
      "source": [
        "3. Write code to print all the pre defined keywords in python using the keyword library."
      ],
      "metadata": {
        "id": "i06igWeOTXok"
      }
    },
    {
      "cell_type": "code",
      "source": [
        "import keyword\n",
        "print(\"python keywords:\")\n",
        "print(keyword.kwlist)"
      ],
      "metadata": {
        "colab": {
          "base_uri": "https://localhost:8080/"
        },
        "id": "BSsvoPz9Tz5k",
        "outputId": "963c968f-4f9d-4050-e6c6-df1aea17ab07"
      },
      "execution_count": 27,
      "outputs": [
        {
          "output_type": "stream",
          "name": "stdout",
          "text": [
            "python keywords:\n",
            "['False', 'None', 'True', 'and', 'as', 'assert', 'async', 'await', 'break', 'class', 'continue', 'def', 'del', 'elif', 'else', 'except', 'finally', 'for', 'from', 'global', 'if', 'import', 'in', 'is', 'lambda', 'nonlocal', 'not', 'or', 'pass', 'raise', 'return', 'try', 'while', 'with', 'yield']\n"
          ]
        }
      ]
    },
    {
      "cell_type": "markdown",
      "source": [
        "4. Write a program that checks if a given word is python keyword."
      ],
      "metadata": {
        "id": "MohPGH2yWAZ0"
      }
    },
    {
      "cell_type": "code",
      "source": [
        "import keyword\n",
        "\n",
        "# Function to check if the word is a Python keyword\n",
        "def is_python_keyword(word):\n",
        "    return keyword.iskeyword(word)\n",
        "\n",
        "# Taking input from the user\n",
        "word = input(\"Enter a word to check if it's a Python keyword: \")\n",
        "\n",
        "# Checking if the word is a Python keyword\n",
        "if is_python_keyword(word):\n",
        "    print(f\"'{word}' is a Python keyword.\")\n",
        "else:\n",
        "    print(f\"'{word}' is not a Python keyword.\")\n"
      ],
      "metadata": {
        "colab": {
          "base_uri": "https://localhost:8080/"
        },
        "id": "v8YEUmREaJEj",
        "outputId": "bd7c74d2-fc05-400a-bd08-a2d7e0a3ea8d"
      },
      "execution_count": 28,
      "outputs": [
        {
          "output_type": "stream",
          "name": "stdout",
          "text": [
            "Enter a word to check if it's a Python keyword: def\n",
            "'def' is a Python keyword.\n"
          ]
        }
      ]
    },
    {
      "cell_type": "markdown",
      "source": [
        "5. Create a list and tuple in Python, and demonstrate how attempting to change an element works differently for each."
      ],
      "metadata": {
        "id": "id35iIjbaW7r"
      }
    },
    {
      "cell_type": "code",
      "source": [
        "my_list = [1, 2, 3, 4]\n",
        "my_tuple = (1, 2, 3, 4)\n",
        "print(\"Original list:\", my_list)\n",
        "my_list[2] = 10\n",
        "print(\"Modified list:\", my_list)\n",
        "print(\"Original tuple:\", my_tuple)\n",
        "try:\n",
        "    my_tuple[2] = 10\n",
        "except TypeError as e:\n",
        "    print(\"Error while modifying tuple:\", e)\n"
      ],
      "metadata": {
        "colab": {
          "base_uri": "https://localhost:8080/"
        },
        "id": "tM8BS2WBbePT",
        "outputId": "12a4d335-e9cf-4998-e783-f034e5c9594d"
      },
      "execution_count": 33,
      "outputs": [
        {
          "output_type": "stream",
          "name": "stdout",
          "text": [
            "Original list: [1, 2, 3, 4]\n",
            "Modified list: [1, 2, 10, 4]\n",
            "Original tuple: (1, 2, 3, 4)\n",
            "Error while modifying tuple: 'tuple' object does not support item assignment\n"
          ]
        }
      ]
    },
    {
      "cell_type": "markdown",
      "source": [
        "6. Write a function to demonstrate the behavior of mutable and immuable argument."
      ],
      "metadata": {
        "id": "-ZfalnizcvjK"
      }
    },
    {
      "cell_type": "code",
      "source": [
        "\n",
        "def modify_arguments(mutable_arg, immutable_arg):\n",
        "    print(\"Before modification:\")\n",
        "    print(\"Mutable argument:\", mutable_arg)\n",
        "    print(\"Immutable argument:\", immutable_arg)\n",
        "\n",
        "    mutable_arg.append(5)\n",
        "\n",
        "    immutable_arg = 10\n",
        "\n",
        "    print(\"\\nAfter modification:\")\n",
        "    print(\"Mutable argument:\", mutable_arg)\n",
        "    print(\"Immutable argument:\", immutable_arg)\n",
        "\n",
        "\n",
        "mutable_list = [1, 2, 3]\n",
        "immutable_number = 5\n",
        "\n",
        "\n",
        "modify_arguments(mutable_list, immutable_number)\n",
        "\n",
        "\n",
        "print(\"\\nOutside function:\")\n",
        "print(\"Mutable list:\", mutable_list)\n",
        "print(\"Immutable number:\", immutable_number)\n"
      ],
      "metadata": {
        "colab": {
          "base_uri": "https://localhost:8080/"
        },
        "id": "0vn2HbHdef8y",
        "outputId": "8c198fe8-bf17-4b97-8962-61c292f08a43"
      },
      "execution_count": 36,
      "outputs": [
        {
          "output_type": "stream",
          "name": "stdout",
          "text": [
            "Before modification:\n",
            "Mutable argument: [1, 2, 3]\n",
            "Immutable argument: 5\n",
            "\n",
            "After modification:\n",
            "Mutable argument: [1, 2, 3, 5]\n",
            "Immutable argument: 10\n",
            "\n",
            "Outside function:\n",
            "Mutable list: [1, 2, 3, 5]\n",
            "Immutable number: 5\n"
          ]
        }
      ]
    },
    {
      "cell_type": "markdown",
      "source": [
        "8. Write a program to demonstrate the use of logical operators."
      ],
      "metadata": {
        "id": "Tk_xma2smdCJ"
      }
    },
    {
      "cell_type": "code",
      "source": [
        "\n",
        "x = 10\n",
        "y = 5\n",
        "z = 20\n",
        "\n",
        "\n",
        "if x > y and x < z:\n",
        "    print(\"x is greater than y and less than z\")\n",
        "\n",
        "if x > y or x > z:\n",
        "    print(\"x is either greater than y or greater than z\")\n",
        "\n",
        "\n",
        "if not x == y:\n",
        "    print(\"x is not equal to y\")\n",
        "\n",
        "\n",
        "if x > y and (y < z or x == 10):\n",
        "    print(\"x is greater than y, and either y is less than z or x is 10\")\n"
      ],
      "metadata": {
        "colab": {
          "base_uri": "https://localhost:8080/"
        },
        "id": "VHZcj3Hknl8o",
        "outputId": "e7bec952-64a2-4f39-86ee-25dc8ed8f543"
      },
      "execution_count": 38,
      "outputs": [
        {
          "output_type": "stream",
          "name": "stdout",
          "text": [
            "x is greater than y and less than z\n",
            "x is either greater than y or greater than z\n",
            "x is not equal to y\n",
            "x is greater than y, and either y is less than z or x is 10\n"
          ]
        }
      ]
    },
    {
      "cell_type": "markdown",
      "source": [
        "9. write a python program to convert user input from string to integar, float and boolean types."
      ],
      "metadata": {
        "id": "8R1o6B5wnwT3"
      }
    },
    {
      "cell_type": "code",
      "source": [
        "\n",
        "def convert_input():\n",
        "\n",
        "    user_input = input(\"Enter a value: \")\n",
        "\n",
        "\n",
        "    try:\n",
        "\n",
        "        int_value = int(user_input)\n",
        "        print(f\"Converted to integer: {int_value}\")\n",
        "    except ValueError:\n",
        "        print(\"Cannot convert to integer.\")\n",
        "\n",
        "    try:\n",
        "\n",
        "        float_value = float(user_input)\n",
        "        print(f\"Converted to float: {float_value}\")\n",
        "    except ValueError:\n",
        "        print(\"Cannot convert to float.\")\n",
        "\n",
        "\n",
        "    bool_value = bool(user_input)\n",
        "    print(f\"Converted to boolean: {bool_value}\")\n",
        "\n",
        "\n",
        "convert_input()\n"
      ],
      "metadata": {
        "colab": {
          "base_uri": "https://localhost:8080/"
        },
        "id": "PC1VT4pioNho",
        "outputId": "f4dffc39-3520-40e8-c8a1-ab4a45fa2e29"
      },
      "execution_count": 40,
      "outputs": [
        {
          "output_type": "stream",
          "name": "stdout",
          "text": [
            "Enter a value: 45\n",
            "Converted to integer: 45\n",
            "Converted to float: 45.0\n",
            "Converted to boolean: True\n"
          ]
        }
      ]
    },
    {
      "cell_type": "markdown",
      "source": [
        "10. Write code to demonstarte type casting with list elemnts."
      ],
      "metadata": {
        "id": "Q9ItVJP9opeR"
      }
    },
    {
      "cell_type": "code",
      "source": [
        "\n",
        "my_list = [\"1\", \"2\", \"3.5\", \"4\", \"True\"]\n",
        "\n",
        "print(\"Original list:\", my_list)\n",
        "\n",
        "\n",
        "int_list = [int(item) if item.isdigit() else 0 for item in my_list]\n",
        "print(\"List with elements converted to integers:\", int_list)\n",
        "\n",
        "\n",
        "float_list = [float(item) if item.replace('.', '', 1).isdigit() else 0.0 for item in my_list]\n",
        "print(\"List with elements converted to floats:\", float_list)\n",
        "\n",
        "\n",
        "bool_list = [bool(item) for item in my_list]\n",
        "print(\"List with elements converted to boolean:\", bool_list)\n"
      ],
      "metadata": {
        "colab": {
          "base_uri": "https://localhost:8080/"
        },
        "id": "PSr8iZpZpCh1",
        "outputId": "56f6e486-5c42-4a99-aff1-0dd3747b0857"
      },
      "execution_count": 41,
      "outputs": [
        {
          "output_type": "stream",
          "name": "stdout",
          "text": [
            "Original list: ['1', '2', '3.5', '4', 'True']\n",
            "List with elements converted to integers: [1, 2, 0, 4, 0]\n",
            "List with elements converted to floats: [1.0, 2.0, 3.5, 4.0, 0.0]\n",
            "List with elements converted to boolean: [True, True, True, True, True]\n"
          ]
        }
      ]
    },
    {
      "cell_type": "markdown",
      "source": [
        "11. Write a program that checks is a number is positive, negattive or zero."
      ],
      "metadata": {
        "id": "aGWkLx4MpO3Q"
      }
    },
    {
      "cell_type": "code",
      "source": [
        "def check_number(num):\n",
        "    if num > 0:\n",
        "        print(f\"{num} is a positive number.\")\n",
        "    elif num < 0:\n",
        "        print(f\"{num} is a negative number.\")\n",
        "    else:\n",
        "        print(f\"{num} is zero.\")\n",
        "number = float(input(\"Enter a number: \"))\n",
        "check_number(number)\n"
      ],
      "metadata": {
        "colab": {
          "base_uri": "https://localhost:8080/"
        },
        "id": "bLn-GI-ipqhl",
        "outputId": "9f6180e7-fe8f-4d4d-c5d7-dacbee53595c"
      },
      "execution_count": 43,
      "outputs": [
        {
          "output_type": "stream",
          "name": "stdout",
          "text": [
            "Enter a number: -8\n",
            "-8.0 is a negative number.\n"
          ]
        }
      ]
    },
    {
      "cell_type": "markdown",
      "source": [
        "12. write a for loop to print numbers from 1 to 10"
      ],
      "metadata": {
        "id": "UO8Z6UfTp7wP"
      }
    },
    {
      "cell_type": "code",
      "source": [
        "for i in range(1, 11):\n",
        "    print(i)"
      ],
      "metadata": {
        "colab": {
          "base_uri": "https://localhost:8080/"
        },
        "id": "hcbAEHOKqJ2H",
        "outputId": "6dd0b034-5c3c-4166-f116-3b6d4d9cd94c"
      },
      "execution_count": 44,
      "outputs": [
        {
          "output_type": "stream",
          "name": "stdout",
          "text": [
            "1\n",
            "2\n",
            "3\n",
            "4\n",
            "5\n",
            "6\n",
            "7\n",
            "8\n",
            "9\n",
            "10\n"
          ]
        }
      ]
    },
    {
      "cell_type": "markdown",
      "source": [
        "13. write a python program to find the sum of all even numbers between 1 and 50."
      ],
      "metadata": {
        "id": "d6kx7lXeqNb_"
      }
    },
    {
      "cell_type": "code",
      "source": [
        "sum_of_even_numbers = 0\n",
        "for num in range(1, 51):\n",
        "     if num % 2 == 0:\n",
        "        sum_of_even_numbers += num\n",
        "print(\"Sum of all even numbers between 1 and 50:\", sum_of_even_numbers)\n"
      ],
      "metadata": {
        "colab": {
          "base_uri": "https://localhost:8080/"
        },
        "id": "XQASAZ6Cqo_n",
        "outputId": "8b3d86bc-b723-4678-8df5-429ab37d2ed3"
      },
      "execution_count": 45,
      "outputs": [
        {
          "output_type": "stream",
          "name": "stdout",
          "text": [
            "Sum of all even numbers between 1 and 50: 650\n"
          ]
        }
      ]
    },
    {
      "cell_type": "code",
      "source": [],
      "metadata": {
        "id": "ATZB-exrq7c3"
      },
      "execution_count": null,
      "outputs": []
    }
  ]
}